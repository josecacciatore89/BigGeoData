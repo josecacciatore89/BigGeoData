{
  "nbformat": 4,
  "nbformat_minor": 0,
  "metadata": {
    "colab": {
      "provenance": []
    },
    "kernelspec": {
      "name": "python3",
      "display_name": "Python 3"
    },
    "language_info": {
      "name": "python"
    }
  },
  "cells": [
    {
      "cell_type": "code",
      "execution_count": 1,
      "metadata": {
        "colab": {
          "base_uri": "https://localhost:8080/"
        },
        "id": "bOUT3o1tKvaj",
        "outputId": "8f405ab0-b904-4c45-c93a-e4024a3ebcdf"
      },
      "outputs": [
        {
          "output_type": "stream",
          "name": "stdout",
          "text": [
            "Requirement already satisfied: folium in /usr/local/lib/python3.11/dist-packages (0.19.5)\n",
            "Requirement already satisfied: geopandas in /usr/local/lib/python3.11/dist-packages (1.0.1)\n",
            "Requirement already satisfied: branca in /usr/local/lib/python3.11/dist-packages (0.8.1)\n",
            "Requirement already satisfied: jinja2>=2.9 in /usr/local/lib/python3.11/dist-packages (from folium) (3.1.6)\n",
            "Requirement already satisfied: numpy in /usr/local/lib/python3.11/dist-packages (from folium) (2.0.2)\n",
            "Requirement already satisfied: requests in /usr/local/lib/python3.11/dist-packages (from folium) (2.32.3)\n",
            "Requirement already satisfied: xyzservices in /usr/local/lib/python3.11/dist-packages (from folium) (2025.4.0)\n",
            "Requirement already satisfied: pyogrio>=0.7.2 in /usr/local/lib/python3.11/dist-packages (from geopandas) (0.11.0)\n",
            "Requirement already satisfied: packaging in /usr/local/lib/python3.11/dist-packages (from geopandas) (24.2)\n",
            "Requirement already satisfied: pandas>=1.4.0 in /usr/local/lib/python3.11/dist-packages (from geopandas) (2.2.2)\n",
            "Requirement already satisfied: pyproj>=3.3.0 in /usr/local/lib/python3.11/dist-packages (from geopandas) (3.7.1)\n",
            "Requirement already satisfied: shapely>=2.0.0 in /usr/local/lib/python3.11/dist-packages (from geopandas) (2.1.0)\n",
            "Requirement already satisfied: MarkupSafe>=2.0 in /usr/local/lib/python3.11/dist-packages (from jinja2>=2.9->folium) (3.0.2)\n",
            "Requirement already satisfied: python-dateutil>=2.8.2 in /usr/local/lib/python3.11/dist-packages (from pandas>=1.4.0->geopandas) (2.9.0.post0)\n",
            "Requirement already satisfied: pytz>=2020.1 in /usr/local/lib/python3.11/dist-packages (from pandas>=1.4.0->geopandas) (2025.2)\n",
            "Requirement already satisfied: tzdata>=2022.7 in /usr/local/lib/python3.11/dist-packages (from pandas>=1.4.0->geopandas) (2025.2)\n",
            "Requirement already satisfied: certifi in /usr/local/lib/python3.11/dist-packages (from pyogrio>=0.7.2->geopandas) (2025.4.26)\n",
            "Requirement already satisfied: charset-normalizer<4,>=2 in /usr/local/lib/python3.11/dist-packages (from requests->folium) (3.4.2)\n",
            "Requirement already satisfied: idna<4,>=2.5 in /usr/local/lib/python3.11/dist-packages (from requests->folium) (3.10)\n",
            "Requirement already satisfied: urllib3<3,>=1.21.1 in /usr/local/lib/python3.11/dist-packages (from requests->folium) (2.4.0)\n",
            "Requirement already satisfied: six>=1.5 in /usr/local/lib/python3.11/dist-packages (from python-dateutil>=2.8.2->pandas>=1.4.0->geopandas) (1.17.0)\n"
          ]
        }
      ],
      "source": [
        "!pip install folium geopandas branca"
      ]
    },
    {
      "cell_type": "code",
      "source": [
        "import folium\n",
        "import geopandas as gpd\n",
        "from shapely.geometry import Point\n",
        "import pandas as pd\n",
        "from branca.colormap import linear\n",
        "import requests"
      ],
      "metadata": {
        "id": "AKnByTHTxfVg"
      },
      "execution_count": 4,
      "outputs": []
    },
    {
      "cell_type": "code",
      "source": [
        "\n",
        "# ---------------- CONFIGURAÇÕES ----------------\n",
        "estado = \"RS\"  # Rio Grande do Sul\n",
        "titulo_mapa = \"Layout de Mapas Temático Quantitativos de Pontos\"\n",
        "\n",
        "# ---------- DADOS SIMULADOS (PONTOS ESPALHADOS NO RS) ----------\n",
        "dados = {\n",
        "    'nome': ['Ponto A', 'Ponto B', 'Ponto C', 'Ponto D', 'Ponto E'],\n",
        "    'classe': [1, 2, 3, 4, 5],\n",
        "    'lat': [-29.5, -30.2, -31.0, -30.8, -29.8],\n",
        "    'lon': [-51.2, -52.5, -53.4, -54.0, -52.0]\n",
        "}\n",
        "df = pd.DataFrame(dados)\n",
        "geometry = [Point(xy) for xy in zip(df['lon'], df['lat'])]\n",
        "gdf = gpd.GeoDataFrame(df, geometry=geometry, crs=\"EPSG:4326\")\n",
        "\n",
        "# ---------- MAPA BASE (CENTRALIZADO NO RS) ----------\n",
        "mapa = folium.Map(location=[-30.0, -53.0], zoom_start=6, tiles=\"OpenStreetMap\")\n",
        "\n",
        "# ---------- CAMADA DE PONTOS ----------\n",
        "pontos = folium.FeatureGroup(name=\"Pontos (Classe 1 a 5)\")\n",
        "cores = linear.Oranges_09.scale(1, 5)\n",
        "\n",
        "for _, row in gdf.iterrows():\n",
        "    classe = row['classe']\n",
        "    cor = cores(classe)\n",
        "    tamanho = 4 + classe * 2\n",
        "    coords = [row.geometry.y, row.geometry.x]\n",
        "\n",
        "    folium.CircleMarker(\n",
        "        location=coords,\n",
        "        radius=tamanho,\n",
        "        color=cor,\n",
        "        fill=True,\n",
        "        fill_color=cor,\n",
        "        fill_opacity=1.2,\n",
        "        popup=f\"{row['nome']} - Classe: {classe}\"\n",
        "    ).add_to(pontos)\n",
        "\n",
        "cores.caption = \"Classe (1 a 5)\"\n",
        "cores.add_to(mapa)\n",
        "pontos.add_to(mapa)\n",
        "\n",
        "# ---------- CAMADA ESTADO ----------\n",
        "url_estado = f\"https://raw.githubusercontent.com/josecacciatore89/Estados_BR_IBGE/main/{estado}.geojson\"\n",
        "camada_estado = folium.FeatureGroup(name=f\"Estado - {estado}\")\n",
        "\n",
        "try:\n",
        "    geojson_estado = requests.get(url_estado).json()\n",
        "    folium.GeoJson(\n",
        "        geojson_estado,\n",
        "        name=estado,\n",
        "        style_function=lambda x: {\n",
        "            \"fillOpacity\": 0.0,\n",
        "            \"color\": \"black\",\n",
        "            \"weight\": 2\n",
        "        },\n",
        "        highlight_function=lambda x: {\"weight\": 3, \"color\": \"blue\"},\n",
        "        tooltip=estado\n",
        "    ).add_to(camada_estado)\n",
        "    camada_estado.add_to(mapa)\n",
        "except Exception as e:\n",
        "    print(f\"Erro ao carregar estado {estado}: {e}\")\n",
        "\n",
        "# ---------- CAMADA MUNICÍPIOS ----------\n",
        "url_municipios = f\"https://raw.githubusercontent.com/josecacciatore89/municipios_BR_IBGE2023/main/{estado}_2023.geojson\"\n",
        "camada_municipios = folium.FeatureGroup(name=f\"Municípios {estado}\")\n",
        "\n",
        "try:\n",
        "    geojson_municipios = requests.get(url_municipios).json()\n",
        "    folium.GeoJson(\n",
        "        geojson_municipios,\n",
        "        name=f\"Municipios_{estado}\",\n",
        "        style_function=lambda x: {\n",
        "            \"fillOpacity\": 0.0,\n",
        "            \"color\": \"black\",\n",
        "            \"weight\": 0.5\n",
        "        },\n",
        "        popup=folium.GeoJsonPopup(fields=[\"NM_MUN\"]),\n",
        "        tooltip=folium.GeoJsonTooltip(fields=[\"NM_MUN\"])\n",
        "    ).add_to(camada_municipios)\n",
        "    camada_municipios.add_to(mapa)\n",
        "except Exception as e:\n",
        "    print(f\"Erro ao carregar municípios do estado {estado}: {e}\")\n",
        "\n",
        "# ---------- CONTROLE DE CAMADAS ----------\n",
        "folium.LayerControl(collapsed=False).add_to(mapa)\n",
        "\n",
        "# ---------- CABEÇALHO COM TÍTULO ----------\n",
        "cor_fundo = \"#FFFFFF\"\n",
        "cor_fonte = \"#000000\"\n",
        "html = f\"\"\"\n",
        "<div style=\"background-color: {cor_fundo}; color: {cor_fonte}; font-family: Arial; padding: 20px; text-align: center; font-weight: bold; font-size: 20px;\">\n",
        "    {titulo_mapa}\n",
        "</div>\n",
        "\"\"\"\n",
        "mapa.get_root().html.add_child(folium.Element(html))\n",
        "\n",
        "# ---------- LOGOTIPOS ----------\n",
        "\n",
        "left_logo = '<img src=\"https://raw.githubusercontent.com/josecacciatore89/imagens/main/cropped-logo.png\" style=\"position:absolute;top:10px;left:100px;width:150px;\">'\n",
        "right_logo = '<img src=\"https://raw.githubusercontent.com/josecacciatore89/imagens/main/cropped-logo.png\" style=\"position:absolute;top:10px;right:100px;width:150px;\">'\n",
        "mapa.get_root().html.add_child(folium.Element(left_logo))\n",
        "mapa.get_root().html.add_child(folium.Element(right_logo))\n",
        "\n",
        "\n",
        "\n",
        "# ---------- SALVA O MAPA ----------\n",
        "mapa.save(\"mapa_pontos.html\")\n",
        "print(\"Mapa salvo como mapa_pontos.html\")"
      ],
      "metadata": {
        "colab": {
          "base_uri": "https://localhost:8080/"
        },
        "id": "VIuaJ2KkyLXW",
        "outputId": "cb0fcae9-a3ab-453e-8776-ef11e78a7c66"
      },
      "execution_count": 6,
      "outputs": [
        {
          "output_type": "stream",
          "name": "stdout",
          "text": [
            "Mapa salvo como mapa_pontos.html\n"
          ]
        }
      ]
    }
  ]
}